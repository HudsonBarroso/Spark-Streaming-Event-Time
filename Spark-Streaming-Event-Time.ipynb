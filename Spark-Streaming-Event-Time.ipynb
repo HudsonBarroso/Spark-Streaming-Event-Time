{
 "cells": [
  {
   "cell_type": "code",
   "execution_count": 2,
   "id": "15f9859d",
   "metadata": {},
   "outputs": [],
   "source": [
    "# Cria a seção a ser utilizada para estabelecer a conexão\n",
    "from pyspark.sql import SparkSession\n",
    "from pyspark.sql.functions import explode\n",
    "from pyspark.sql.functions import split\n",
    "from pyspark.sql.functions import window\n",
    "from pyspark.sql.functions import desc, asc\n",
    "\n",
    "spark = SparkSession \\\n",
    "        .builder \\\n",
    "        .appName(\"StructuredNetworkWordCount\") \\\n",
    "        .getOrCreate()"
   ]
  },
  {
   "cell_type": "code",
   "execution_count": 3,
   "id": "2ec65fce",
   "metadata": {},
   "outputs": [],
   "source": [
    "# Definindo um esquema para os dados\n",
    "from pyspark.sql.types import StructType\n",
    "\n",
    "userSchema = StructType().add(\"timestamp\", \"timestamp\").add(\"word\", \"string\")"
   ]
  },
  {
   "cell_type": "code",
   "execution_count": 5,
   "id": "2568cfaf",
   "metadata": {},
   "outputs": [],
   "source": [
    "# Ciria um dataframe que será responsável ler cada um das linhas recebidas dos arquivos adicionados no diretório\n",
    "files_diir = spark.readStream\\\n",
    "        .format(\"csv\")\\\n",
    "        .schema(userSchema)\\\n",
    "        .option('includeTimestamp', 'true')\\\n",
    "        .option(\"header\", \"true\")\\\n",
    "        .option(\"sep\", \";\")\\\n",
    "        .option(\"maxFilesPerTrigger\", 1)\\\n",
    "        .load(\"*.csv\")"
   ]
  },
  {
   "cell_type": "code",
   "execution_count": 6,
   "id": "206f53d1",
   "metadata": {},
   "outputs": [
    {
     "data": {
      "text/plain": [
       "<bound method DataFrame.printSchema of DataFrame[timestamp: timestamp, word: string]>"
      ]
     },
     "execution_count": 6,
     "metadata": {},
     "output_type": "execute_result"
    }
   ],
   "source": [
    "# Imprimir o schema\n",
    "files_diir.printSchema"
   ]
  },
  {
   "cell_type": "code",
   "execution_count": 7,
   "id": "68619307",
   "metadata": {},
   "outputs": [],
   "source": [
    "# Divide as linhas recebidas em cada palavras\n",
    "words = files_diir.select(explode(\n",
    "        split(files_diir.word, \" \")).alias(\"word\"), files_diir.timestamp)"
   ]
  },
  {
   "cell_type": "code",
   "execution_count": 8,
   "id": "f30f9692",
   "metadata": {},
   "outputs": [
    {
     "data": {
      "text/plain": [
       "True"
      ]
     },
     "execution_count": 8,
     "metadata": {},
     "output_type": "execute_result"
    }
   ],
   "source": [
    "words.isStreaming"
   ]
  },
  {
   "cell_type": "code",
   "execution_count": 9,
   "id": "b452f473",
   "metadata": {},
   "outputs": [],
   "source": [
    "# Agrupa os dados através da janela de tempo e computa sobre cada um dos grupos\n",
    "windowedCounts = words.groupBy(\n",
    "        window(words.timestamp, \"10 Minutes\", \"5 Minutes\"),\n",
    "        words.word\n",
    ").count().sort(asc(\"word\"))"
   ]
  },
  {
   "cell_type": "code",
   "execution_count": null,
   "id": "1230ed1b",
   "metadata": {},
   "outputs": [],
   "source": [
    "# Define a consulta query e como deve ser realizada  saída (sink) para o stream criado\n",
    "query = windowedCounts \\\n",
    "        .writeStream \\\n",
    "        .outputMode(\"complete\")\\\n",
    "        .format(\"console\")\\\n",
    "        .option('truncate', 'false')\\\n",
    "        .start()\n",
    "query.awaitTermination()\n",
    "# Aguarda até que a \"streaming query\" termine"
   ]
  }
 ],
 "metadata": {
  "kernelspec": {
   "display_name": "Python 3",
   "language": "python",
   "name": "python3"
  },
  "language_info": {
   "codemirror_mode": {
    "name": "ipython",
    "version": 3
   },
   "file_extension": ".py",
   "mimetype": "text/x-python",
   "name": "python",
   "nbconvert_exporter": "python",
   "pygments_lexer": "ipython3",
   "version": "3.8.8"
  }
 },
 "nbformat": 4,
 "nbformat_minor": 5
}
